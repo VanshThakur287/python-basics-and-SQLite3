{
 "cells": [
  {
   "cell_type": "code",
   "execution_count": 1,
   "id": "7320e656",
   "metadata": {},
   "outputs": [
    {
     "name": "stdout",
     "output_type": "stream",
     "text": [
      "10\n"
     ]
    }
   ],
   "source": [
    "x=10\n",
    "print(x)"
   ]
  },
  {
   "cell_type": "code",
   "execution_count": 3,
   "id": "71f99772",
   "metadata": {},
   "outputs": [
    {
     "name": "stdout",
     "output_type": "stream",
     "text": [
      "va\\nshthakur\n"
     ]
    }
   ],
   "source": [
    "print(\"va\\\\nshthakur\")"
   ]
  },
  {
   "cell_type": "code",
   "execution_count": 4,
   "id": "8db3516c",
   "metadata": {},
   "outputs": [
    {
     "name": "stdout",
     "output_type": "stream",
     "text": [
      "2\n",
      "4\n"
     ]
    }
   ],
   "source": [
    "x=2\n",
    "y=4\n",
    "print(x)  #value fetched from memory not from script\n",
    "print(y)  #value fetched from memory not from script"
   ]
  },
  {
   "cell_type": "code",
   "execution_count": 5,
   "id": "0df95a48",
   "metadata": {},
   "outputs": [
    {
     "name": "stdout",
     "output_type": "stream",
     "text": [
      "2\n",
      "4\n",
      "5\n",
      "10\n",
      "45\n"
     ]
    }
   ],
   "source": [
    "x=2\n",
    "y=4\n",
    "X=5\n",
    "print(x)\n",
    "print(y)\n",
    "print(X)\n",
    "x=10\n",
    "y=45\n",
    "print(x)\n",
    "print(y)"
   ]
  },
  {
   "cell_type": "code",
   "execution_count": null,
   "id": "fbbfd39b",
   "metadata": {},
   "outputs": [],
   "source": [
    "#ascai code:- 0-255= 256"
   ]
  },
  {
   "cell_type": "code",
   "execution_count": null,
   "id": "61ba5d57",
   "metadata": {},
   "outputs": [],
   "source": [
    "#ascai code3463467658\n",
    "#bianry code: @##%$^&$^&^%%$#"
   ]
  },
  {
   "cell_type": "code",
   "execution_count": null,
   "id": "10c315c7",
   "metadata": {},
   "outputs": [],
   "source": [
    "2x=4"
   ]
  },
  {
   "cell_type": "code",
   "execution_count": null,
   "id": "434405ca",
   "metadata": {},
   "outputs": [],
   "source": [
    "#A=65 B=66........Z=90\n",
    "#a=97 b=98 .......z=112\n",
    "#esc=27 enter=13"
   ]
  },
  {
   "cell_type": "code",
   "execution_count": 6,
   "id": "8a298d76",
   "metadata": {},
   "outputs": [
    {
     "name": "stdout",
     "output_type": "stream",
     "text": [
      "Sum of values 9\n"
     ]
    }
   ],
   "source": [
    "x= 5\n",
    "y=4\n",
    "z=x+y #first right hand side is solved before assigning value to variable\n",
    "print(\"Sum of values\",z)"
   ]
  },
  {
   "cell_type": "code",
   "execution_count": 7,
   "id": "aae9db20",
   "metadata": {},
   "outputs": [
    {
     "name": "stdout",
     "output_type": "stream",
     "text": [
      "<class 'int'>\n",
      "<class 'float'>\n",
      "<class 'str'>\n"
     ]
    }
   ],
   "source": [
    "a=120\n",
    "b=12.34\n",
    "c= \"new\"\n",
    "print(type(a))\n",
    "print(type(b))\n",
    "print(type(c))"
   ]
  },
  {
   "cell_type": "code",
   "execution_count": 8,
   "id": "cefeb497",
   "metadata": {},
   "outputs": [
    {
     "data": {
      "text/plain": [
       "'helloworld'"
      ]
     },
     "execution_count": 8,
     "metadata": {},
     "output_type": "execute_result"
    }
   ],
   "source": [
    "\"hello\" + \"world\" #concatination "
   ]
  },
  {
   "cell_type": "code",
   "execution_count": 9,
   "id": "24549a03",
   "metadata": {},
   "outputs": [
    {
     "name": "stdout",
     "output_type": "stream",
     "text": [
      "13\n",
      "14\n",
      "sum of values 1314\n"
     ]
    }
   ],
   "source": [
    "#input is used for keyboard input\n",
    "x= input() #by default input takes the value as string and to change the data type we use the technique of type casting:\n",
    "y= input()\n",
    "z= x+y\n",
    "print(\"sum of values\",z)"
   ]
  },
  {
   "cell_type": "code",
   "execution_count": 10,
   "id": "f57545b7",
   "metadata": {},
   "outputs": [
    {
     "name": "stdout",
     "output_type": "stream",
     "text": [
      "<class 'int'> <class 'int'> <class 'float'>\n"
     ]
    }
   ],
   "source": [
    "a=10\n",
    "b=4\n",
    "c=a/b #implicit type casting\n",
    "print(type(a), type(b), type(c))"
   ]
  },
  {
   "cell_type": "code",
   "execution_count": 13,
   "id": "75b22cdc",
   "metadata": {},
   "outputs": [
    {
     "name": "stdout",
     "output_type": "stream",
     "text": [
      "enter the value=12\n",
      "enter a value= 14\n",
      "sum of values 26\n"
     ]
    }
   ],
   "source": [
    "x= int(input(\"enter the value=\"))\n",
    "y=int(input(\"enter a value= \"))\n",
    "z=x+y\n",
    "print(\"sum of values\",z)"
   ]
  },
  {
   "cell_type": "code",
   "execution_count": 14,
   "id": "423c2378",
   "metadata": {},
   "outputs": [],
   "source": [
    "# //used for quotient"
   ]
  },
  {
   "cell_type": "code",
   "execution_count": 15,
   "id": "bc382340",
   "metadata": {},
   "outputs": [],
   "source": [
    "#syntax of if/else\n",
    "#if_data if condition else else_data"
   ]
  },
  {
   "cell_type": "code",
   "execution_count": 16,
   "id": "b2f2fc25",
   "metadata": {},
   "outputs": [
    {
     "name": "stdout",
     "output_type": "stream",
     "text": [
      "enter a:12\n",
      "enter b:13\n",
      "bye\n"
     ]
    }
   ],
   "source": [
    "a=int(input(\"enter a:\"))\n",
    "b=int(input(\"enter b:\"))\n",
    "print(\"hello\") if a==b else print(\"bye\")"
   ]
  },
  {
   "cell_type": "code",
   "execution_count": 17,
   "id": "8fe8fbcd",
   "metadata": {},
   "outputs": [
    {
     "name": "stdout",
     "output_type": "stream",
     "text": [
      "provide a no:5\n",
      "odd\n"
     ]
    }
   ],
   "source": [
    "#for identifying odd and even no.\n",
    "a=int(input(\"provide a no:\"))\n",
    "print (\"even\") if a%2==0 else print(\"odd\")"
   ]
  },
  {
   "cell_type": "code",
   "execution_count": 20,
   "id": "9fc0507b",
   "metadata": {},
   "outputs": [
    {
     "name": "stdout",
     "output_type": "stream",
     "text": [
      "Welcome\n",
      "\n",
      "Vansh Thakur\n",
      "from Harayana\n",
      "Bank name : SBI\n",
      "acc no.: 12345678\n",
      "ATM Pin: 1234\n",
      "acc balance:100000\n",
      "\n",
      "Thanks\n",
      "\n"
     ]
    }
   ],
   "source": [
    "print(\"Welcome\\n\")\n",
    "print(\"Vansh Thakur\")\n",
    "print(\"from Harayana\")\n",
    "print(\"Bank name : SBI\")\n",
    "print(\"acc no.: 12345678\")\n",
    "print(\"ATM Pin: 1234\")\n",
    "print(\"acc balance:100000\\n\")\n",
    "print(\"Thanks\\n\")"
   ]
  },
  {
   "cell_type": "code",
   "execution_count": 25,
   "id": "e19112a4",
   "metadata": {},
   "outputs": [
    {
     "name": "stdout",
     "output_type": "stream",
     "text": [
      "Welcome\n",
      "\n",
      "Vansh Thakur\n",
      "Enter password for back deails:121212\n",
      "wrong password please try again\n",
      "\n"
     ]
    }
   ],
   "source": [
    "print(\"Welcome\\n\")\n",
    "print(\"Vansh Thakur\")\n",
    "saved_password= 1234\n",
    "user_password=int(input(\"Enter password for back deails:\"))\n",
    "if saved_password==user_password:\n",
    "    print(\"from Harayana\")\n",
    "    print(\"Bank name : SBI\")\n",
    "    print(\"acc no.: 12345678\")\n",
    "    print(\"ATM Pin: 1234\")\n",
    "    print(\"acc balance:100000\\n\")\n",
    "else:\n",
    "    print(\"wrong password please try again\\n\")\n",
    "    "
   ]
  },
  {
   "cell_type": "code",
   "execution_count": 1,
   "id": "d08c8acf",
   "metadata": {},
   "outputs": [
    {
     "name": "stdout",
     "output_type": "stream",
     "text": [
      "Welcome\n",
      "\n",
      "Vansh Thakur\n",
      "Enter password for bank deails:········\n",
      "from Harayana\n",
      "Bank name : SBI\n",
      "acc no.: 12345678\n",
      "ATM Pin: 1234\n",
      "acc balance:100000\n",
      "\n",
      "Thanks\n",
      "\n"
     ]
    }
   ],
   "source": [
    "import getpass\n",
    "print(\"Welcome\\n\")\n",
    "print(\"Vansh Thakur\")\n",
    "saved_password= 1234\n",
    "user_password=int(getpass.getpass(\"Enter password for bank deails:\"))\n",
    "if saved_password==user_password:\n",
    "    print(\"from Harayana\")\n",
    "    print(\"Bank name : SBI\")\n",
    "    print(\"acc no.: 12345678\")\n",
    "    print(\"ATM Pin: 1234\")\n",
    "    print(\"acc balance:100000\\n\")\n",
    "else:\n",
    "    print(\"wrong password please try again\\n\")\n",
    "print(\"Thanks\\n\")"
   ]
  },
  {
   "cell_type": "code",
   "execution_count": 33,
   "id": "2ed7ff17",
   "metadata": {},
   "outputs": [
    {
     "name": "stdout",
     "output_type": "stream",
     "text": [
      "Welcome\n",
      "\n",
      "Vansh Thakur\n",
      "Enter password for back deails:········\n",
      "from Harayana\n",
      "Bank name : SBI\n",
      "acc no.: 12345678\n",
      "Enter UPP:········\n",
      "Wrong PP\n",
      "Thanks\n",
      "\n"
     ]
    }
   ],
   "source": [
    "#nested if else\n",
    "import getpass\n",
    "print(\"Welcome\\n\")\n",
    "print(\"Vansh Thakur\")\n",
    "saved_password= 1234\n",
    "user_password=int(getpass.getpass(\"Enter password for back deails:\"))\n",
    "if saved_password==user_password:\n",
    "    print(\"from Harayana\")\n",
    "    print(\"Bank name : SBI\")\n",
    "    print(\"acc no.: 12345678\")\n",
    "    pp=5678\n",
    "    upp=int(getpass.getpass(\"Enter UPP:\"))\n",
    "    if pp==upp:\n",
    "        print(\"ATM Pin: 1234\")\n",
    "        print(\"acc balance:100000\\n\")\n",
    "    else:\n",
    "        print(\"Wrong PP\")\n",
    "else:\n",
    "    print(\"wrong password please try again\\n\")\n",
    "print(\"Thanks\\n\")"
   ]
  },
  {
   "cell_type": "code",
   "execution_count": null,
   "id": "fb6339dc",
   "metadata": {},
   "outputs": [],
   "source": [
    "#elif statements\n",
    "l=input(\"enter 1st alphabat of colour name: \")\n",
    "if l==\"r\":\n",
    "    print(\"red\")\n",
    "elif l==\"y\":\n",
    "    print(\"yellow\")\n",
    "elif l==\"g\":\n",
    "    print(\"green\")\n",
    "else:\n",
    "    print(\"wrong input\")"
   ]
  },
  {
   "cell_type": "code",
   "execution_count": 36,
   "id": "fb33d340",
   "metadata": {},
   "outputs": [],
   "source": [
    "#loop   for and while"
   ]
  },
  {
   "cell_type": "code",
   "execution_count": 37,
   "id": "303ac253",
   "metadata": {},
   "outputs": [
    {
     "name": "stdout",
     "output_type": "stream",
     "text": [
      "2\n"
     ]
    }
   ],
   "source": [
    "x=1\n",
    "x=x+1 #x+=1\n",
    "print(x)"
   ]
  },
  {
   "cell_type": "code",
   "execution_count": 40,
   "id": "e37637a1",
   "metadata": {},
   "outputs": [
    {
     "name": "stdout",
     "output_type": "stream",
     "text": [
      "9\n"
     ]
    }
   ],
   "source": [
    "x=10\n",
    "x=x-1      #x-=1\n",
    "print(x)"
   ]
  },
  {
   "cell_type": "code",
   "execution_count": 1,
   "id": "cd58ff8d",
   "metadata": {},
   "outputs": [
    {
     "name": "stdout",
     "output_type": "stream",
     "text": [
      "Welcome\n",
      "\n",
      "hello world\n",
      "hello world\n",
      "hello world\n",
      "\n",
      "Thanks\n"
     ]
    }
   ],
   "source": [
    "print(\"Welcome\\n\")\n",
    "i=1\n",
    "while i<=3:\n",
    "    print(\"hello world\")\n",
    "    i=i+1\n",
    "print(\"\\nThanks\")"
   ]
  },
  {
   "cell_type": "code",
   "execution_count": 2,
   "id": "151d93ce",
   "metadata": {},
   "outputs": [
    {
     "name": "stdout",
     "output_type": "stream",
     "text": [
      "Welcome\n",
      "\n",
      "enter data5\n",
      "hello world\n",
      "hello world\n",
      "hello world\n",
      "hello world\n",
      "hello world\n",
      "\n",
      "Thanks\n"
     ]
    }
   ],
   "source": [
    "print(\"Welcome\\n\")\n",
    "i=1\n",
    "n=int(input(\"enter data\"))\n",
    "while i<=n:\n",
    "    print(\"hello world\")\n",
    "    i=i+1\n",
    "print(\"\\nThanks\")"
   ]
  },
  {
   "cell_type": "code",
   "execution_count": 2,
   "id": "0d0ab0de",
   "metadata": {},
   "outputs": [
    {
     "name": "stdout",
     "output_type": "stream",
     "text": [
      "Welcome\n",
      "\n",
      "enter data34\n",
      "hello world\n",
      "hello world\n",
      "hello world\n",
      "hello world\n",
      "hello world\n",
      "hello world\n",
      "hello world\n",
      "hello world\n",
      "hello world\n",
      "hello world\n",
      "hello world\n",
      "hello world\n",
      "hello world\n",
      "hello world\n",
      "hello world\n",
      "hello world\n",
      "hello world\n",
      "hello world\n",
      "hello world\n",
      "hello world\n",
      "hello world\n",
      "hello world\n",
      "hello world\n",
      "hello world\n",
      "hello world\n",
      "hello world\n",
      "hello world\n",
      "hello world\n",
      "hello world\n",
      "hello world\n",
      "hello world\n",
      "hello world\n",
      "hello world\n",
      "hello world\n",
      "\n",
      "Thanks\n"
     ]
    }
   ],
   "source": [
    "print(\"Welcome\\n\")\n",
    "i=1\n",
    "n=int(input(\"enter data\"))\n",
    "while i<=n:\n",
    "    print(\"hello world\")\n",
    "    i=i+1\n",
    "print(\"\\nThanks\")"
   ]
  },
  {
   "cell_type": "code",
   "execution_count": 3,
   "id": "831ab5b4",
   "metadata": {},
   "outputs": [
    {
     "name": "stdout",
     "output_type": "stream",
     "text": [
      "1\n"
     ]
    }
   ],
   "source": [
    "x=1\n",
    "print(x)"
   ]
  },
  {
   "cell_type": "code",
   "execution_count": 4,
   "id": "775a93e9",
   "metadata": {},
   "outputs": [
    {
     "name": "stdout",
     "output_type": "stream",
     "text": [
      "welcome\n",
      "Hello World\n",
      "do you want to run again y/n:y\n",
      "Hello World\n",
      "do you want to run again y/n:n\n",
      "\n",
      " Thanks\n"
     ]
    }
   ],
   "source": [
    "print(\"welcome\")\n",
    "while True:\n",
    "    print(\"Hello World\")\n",
    "    choice=input (\"do you want to run again y/n:\")\n",
    "    if choice==\"n\":\n",
    "        break\n",
    "print(\"\\n Thanks\")"
   ]
  },
  {
   "cell_type": "code",
   "execution_count": 1,
   "id": "32bc5d8c",
   "metadata": {},
   "outputs": [
    {
     "name": "stdout",
     "output_type": "stream",
     "text": [
      "welcome\n",
      "1 Hello World\n",
      "2 Hello World\n",
      "3 Hello World\n",
      "do you want to run again y/n:y\n",
      "4 Hello World\n",
      "5 Hello World\n",
      "6 Hello World\n",
      "do you want to run again y/n:n\n",
      "\n",
      " Thanks\n"
     ]
    }
   ],
   "source": [
    "print(\"welcome\")\n",
    "i=1\n",
    "while True:\n",
    "    print(i,\"Hello World\")\n",
    "    if i%3==0:\n",
    "        choice=input (\"do you want to run again y/n:\")\n",
    "        if choice==\"n\":\n",
    "            break\n",
    "    i+=1\n",
    "print(\"\\n Thanks\")"
   ]
  },
  {
   "cell_type": "code",
   "execution_count": 2,
   "id": "6fc868c0",
   "metadata": {},
   "outputs": [
    {
     "name": "stdout",
     "output_type": "stream",
     "text": [
      "Enter the starting value= 1\n",
      "Enter the end      value=100\n",
      "15\n",
      "30\n",
      "45\n",
      "60\n",
      "75\n",
      "90\n",
      "Total no. of nos 6\n"
     ]
    }
   ],
   "source": [
    "s=int(input(\"Enter the starting value= \"))\n",
    "e=int(input(\"Enter the end      value=\"))\n",
    "l=0\n",
    "for i in range(s,e+1):\n",
    "    if i%3==0 and i%5==0:\n",
    "        print(i)\n",
    "        l+=1\n",
    "print(\"Total no. of nos\",l)"
   ]
  },
  {
   "cell_type": "code",
   "execution_count": 2,
   "id": "df8ef9f8",
   "metadata": {},
   "outputs": [
    {
     "name": "stdout",
     "output_type": "stream",
     "text": [
      "Enter the starting value= 10\n",
      "Enter the end      value=1000\n",
      "Total no. of nos 66\n"
     ]
    }
   ],
   "source": [
    "s=int(input(\"Enter the starting value= \"))\n",
    "e=int(input(\"Enter the end      value=\"))\n",
    "l=0\n",
    "while s<=e:\n",
    "    if s%3==0 and s%5==0:\n",
    "        l+=1\n",
    "    s=s+1\n",
    "print(\"Total no. of nos\",l)"
   ]
  },
  {
   "cell_type": "code",
   "execution_count": 12,
   "id": "da31dc78",
   "metadata": {},
   "outputs": [
    {
     "name": "stdout",
     "output_type": "stream",
     "text": [
      "Enter a no to check4\n",
      "No is not Prime\n"
     ]
    }
   ],
   "source": [
    "#program to find prime no.s\n",
    "n=int(input(\"Enter a no to check\"))\n",
    "flag=1\n",
    "for i in range(2,n):\n",
    "    if n%i==0:\n",
    "        flag=0\n",
    "if flag==1:\n",
    "    print(\"No. is prime\")\n",
    "else:\n",
    "    print(\"No is not Prime\")"
   ]
  },
  {
   "cell_type": "code",
   "execution_count": 21,
   "id": "01351099",
   "metadata": {},
   "outputs": [
    {
     "name": "stdout",
     "output_type": "stream",
     "text": [
      "Enter the Start Value 2\n",
      "Enter the End   Value 20\n",
      "2 No. is Prime\n",
      "3 No. is Prime\n",
      "5 No. is Prime\n",
      "7 No. is Prime\n",
      "11 No. is Prime\n",
      "13 No. is Prime\n",
      "17 No. is Prime\n",
      "19 No. is Prime\n",
      "Total no,s of prime no.= 8\n"
     ]
    }
   ],
   "source": [
    "s=int(input(\"Enter the Start Value \"))\n",
    "e=int(input(\"Enter the End   Value \"))\n",
    "l=0\n",
    "\n",
    "for m in range (s,e+1):\n",
    "    flag=1\n",
    "    for i in range(2,m):\n",
    "        if m%i==0:\n",
    "            flag=0\n",
    "    if flag==1:\n",
    "        print(m,\"No. is Prime\")\n",
    "        l+=1\n",
    "print(\"Total no,s of prime no.=\",l)"
   ]
  },
  {
   "cell_type": "code",
   "execution_count": 15,
   "id": "72ecc24c",
   "metadata": {},
   "outputs": [
    {
     "name": "stdout",
     "output_type": "stream",
     "text": [
      "Enter the Start Value1\n",
      "Enter the End   Value5\n",
      "Prime no. is 1\n",
      "Prime no. is 2\n",
      "Prime no. is 3\n",
      "Prime no. is 5\n",
      "total prime no.s= 4\n"
     ]
    }
   ],
   "source": [
    "s=int(input(\"Enter the Start Value\"))\n",
    "e=int(input(\"Enter the End   Value\"))\n",
    "l=0\n",
    "while s<=e:\n",
    "    \n",
    "    i=2\n",
    "    flag=1\n",
    "    while i<s:\n",
    "        if s%i==0:\n",
    "            flag=0\n",
    "        i+=1\n",
    "    if flag==1:\n",
    "        print(\"Prime no. is\",s)\n",
    "        l+=1\n",
    "    s+=1\n",
    "print(\"total prime no.s=\",l)"
   ]
  },
  {
   "cell_type": "code",
   "execution_count": 18,
   "id": "576299a9",
   "metadata": {},
   "outputs": [
    {
     "name": "stdout",
     "output_type": "stream",
     "text": [
      "enter the no.123456\n",
      "total digit:  6\n"
     ]
    }
   ],
   "source": [
    "n=int(input(\"enter the no.\"))\n",
    "m=0\n",
    "while n>0:\n",
    "    n=n//10\n",
    "    m+=1\n",
    "print(\"total digit: \",m)"
   ]
  },
  {
   "cell_type": "code",
   "execution_count": 7,
   "id": "b4e14249",
   "metadata": {},
   "outputs": [
    {
     "name": "stdout",
     "output_type": "stream",
     "text": [
      "Enter the no.: 10\n",
      "Both sides are not same\n"
     ]
    }
   ],
   "source": [
    "#to check if the no. is inverse of it self\n",
    "n=int(input(\"Enter the no.: \"))\n",
    "m=n           #to store the original value for comparison\n",
    "rev=0         #to build up the reverse order of the no.\n",
    "while n>0:\n",
    "    r=n%10\n",
    "    rev=rev*10+r\n",
    "    n=n//10\n",
    "if rev==m:\n",
    "    print(\"Both sides are same\")\n",
    "else:\n",
    "    print(\"Both sides are not same\")"
   ]
  },
  {
   "cell_type": "code",
   "execution_count": 17,
   "id": "be5c6b95",
   "metadata": {},
   "outputs": [
    {
     "name": "stdout",
     "output_type": "stream",
     "text": [
      "Enter a no.5\n",
      "1 1 1 1 1 \n",
      "2 2 2 2 2 \n",
      "3 3 3 3 3 \n",
      "4 4 4 4 4 \n",
      "5 5 5 5 5 \n"
     ]
    }
   ],
   "source": [
    "n=int(input(\"Enter a no.\"))\n",
    "for i in range(1,n+1):\n",
    "    for j in range(1,n+1):\n",
    "        print(i,end=\" \")\n",
    "    print()"
   ]
  },
  {
   "cell_type": "code",
   "execution_count": 3,
   "id": "03002646",
   "metadata": {},
   "outputs": [
    {
     "name": "stdout",
     "output_type": "stream",
     "text": [
      "Enter a no.5\n",
      "1 2 3 4 5 \n",
      "1 2 3 4 5 \n",
      "1 2 3 4 5 \n",
      "1 2 3 4 5 \n",
      "1 2 3 4 5 \n"
     ]
    }
   ],
   "source": [
    "n=int(input(\"Enter a no.\"))\n",
    "for i in range(1,n+1):\n",
    "    for j in range(1,n+1):\n",
    "        print(j,end=\" \")\n",
    "    print()\n",
    "        "
   ]
  },
  {
   "cell_type": "code",
   "execution_count": 1,
   "id": "358a82a9",
   "metadata": {},
   "outputs": [],
   "source": [
    "def sharmaji(b):\n",
    "    print(\"I am deepak sharma\")\n",
    "    print (\"from UP\")\n",
    "    total_b=b+(b*(10/100))\n",
    "    return total_b"
   ]
  },
  {
   "cell_type": "code",
   "execution_count": 2,
   "id": "b15bd87a",
   "metadata": {},
   "outputs": [
    {
     "name": "stdout",
     "output_type": "stream",
     "text": [
      "hello world\n",
      "Enter Money: 100\n",
      "I am deepak sharma\n",
      "from UP\n",
      "My current balance: 110.0\n"
     ]
    }
   ],
   "source": [
    "print(\"hello world\")\n",
    "my_bal=int(input(\"Enter Money: \"))\n",
    "tushar=sharmaji(my_bal)\n",
    "print(\"My current balance:\",tushar)"
   ]
  },
  {
   "cell_type": "code",
   "execution_count": 16,
   "id": "4615a378",
   "metadata": {},
   "outputs": [],
   "source": [
    "#tupple is static list is dynamic"
   ]
  },
  {
   "cell_type": "code",
   "execution_count": 19,
   "id": "409a0e49",
   "metadata": {},
   "outputs": [
    {
     "data": {
      "text/plain": [
       "'C:\\\\Users\\\\Vansh\\\\Documents\\\\python training'"
      ]
     },
     "execution_count": 19,
     "metadata": {},
     "output_type": "execute_result"
    }
   ],
   "source": [
    "import os\n",
    "os.getcwd()"
   ]
  },
  {
   "cell_type": "code",
   "execution_count": 20,
   "id": "20aad415",
   "metadata": {},
   "outputs": [],
   "source": [
    "#syntax for importing other python file \n",
    "#import filename\n",
    "#to call a function from imported file\n",
    "#filename.function"
   ]
  },
  {
   "cell_type": "code",
   "execution_count": 22,
   "id": "9817151e",
   "metadata": {},
   "outputs": [],
   "source": [
    "#to import a file from different folder '\n",
    "#from foldername import filename\n",
    "#to assign the variable to imported file\n",
    "#from foldername import filename as verable"
   ]
  },
  {
   "cell_type": "code",
   "execution_count": 7,
   "id": "6bfeaf3c",
   "metadata": {},
   "outputs": [],
   "source": [
    "import vansh"
   ]
  },
  {
   "cell_type": "code",
   "execution_count": 8,
   "id": "53df0bf4",
   "metadata": {},
   "outputs": [
    {
     "name": "stdout",
     "output_type": "stream",
     "text": [
      "My name is Vansh\n",
      "I am from haryana\n"
     ]
    }
   ],
   "source": [
    "vansh.thakur()"
   ]
  },
  {
   "cell_type": "markdown",
   "id": "7d2275b5",
   "metadata": {},
   "source": [
    "# SQLite 3"
   ]
  },
  {
   "cell_type": "code",
   "execution_count": 1,
   "id": "ed575e60",
   "metadata": {},
   "outputs": [],
   "source": [
    "import sqlite3"
   ]
  },
  {
   "cell_type": "code",
   "execution_count": 2,
   "id": "eabce64b",
   "metadata": {},
   "outputs": [],
   "source": [
    "#file handling"
   ]
  },
  {
   "cell_type": "code",
   "execution_count": 3,
   "id": "f49ac563",
   "metadata": {},
   "outputs": [
    {
     "name": "stdout",
     "output_type": "stream",
     "text": [
      "<_io.TextIOWrapper name='Vansh.txt' mode='w' encoding='cp1252'>\n"
     ]
    }
   ],
   "source": [
    "h=open(\"Vansh.txt\",\"w\")\n",
    "print (h)"
   ]
  },
  {
   "cell_type": "code",
   "execution_count": 4,
   "id": "fff89240",
   "metadata": {},
   "outputs": [
    {
     "name": "stdout",
     "output_type": "stream",
     "text": [
      "Welcome\n",
      "thanks\n"
     ]
    }
   ],
   "source": [
    "print(\"Welcome\")\n",
    "h=open(\"vt.txt\",\"w\")\n",
    "h.write(\"Go to hell\")\n",
    "h.write(\"\\nfuck off\")\n",
    "h.close()\n",
    "print(\"thanks\")"
   ]
  },
  {
   "cell_type": "code",
   "execution_count": 5,
   "id": "65b3d22a",
   "metadata": {},
   "outputs": [
    {
     "name": "stdout",
     "output_type": "stream",
     "text": [
      "Welcome\n",
      "thanks\n"
     ]
    }
   ],
   "source": [
    "print(\"Welcome\")\n",
    "h=open(\"vt.txt\",\"a\")\n",
    "h.write(\"\\n\\nmother fucker\")\n",
    "h.write(\"\\nSon of a bitch\")\n",
    "h.close()\n",
    "print(\"thanks\")"
   ]
  },
  {
   "cell_type": "code",
   "execution_count": 6,
   "id": "0739abdd",
   "metadata": {},
   "outputs": [
    {
     "name": "stdout",
     "output_type": "stream",
     "text": [
      "Go to hell\n",
      "fuck off\n",
      "\n",
      "mother fucker\n",
      "Son of a bitch\n"
     ]
    }
   ],
   "source": [
    "k=open(\"vt.txt\",\"r\")\n",
    "p=k.read()\n",
    "print(p)"
   ]
  },
  {
   "cell_type": "code",
   "execution_count": 7,
   "id": "f2b93503",
   "metadata": {},
   "outputs": [],
   "source": [
    "#write function \n",
    "k=open(\"History.txt\",\"w\")\n",
    "title= \"HISTORY OF INDIA\"\n",
    "p1=\"\\nhello everyone\"\n",
    "k.write(title)\n",
    "k.write(p1)\n",
    "k.close()"
   ]
  },
  {
   "cell_type": "code",
   "execution_count": 8,
   "id": "78e4427b",
   "metadata": {},
   "outputs": [],
   "source": [
    "#append function\n",
    "apnd=open(\"History.txt\",\"a\")\n",
    "last=\"\\nIndia is a vast country which contains people of multiple religion.\"\n",
    "apnd.write(last)\n",
    "apnd.close()"
   ]
  },
  {
   "cell_type": "code",
   "execution_count": 9,
   "id": "c5bf43e1",
   "metadata": {},
   "outputs": [
    {
     "name": "stdout",
     "output_type": "stream",
     "text": [
      "Welcome\n",
      "Thanks\n"
     ]
    }
   ],
   "source": [
    "print(\"Welcome\")\n",
    "h=open(\"pp.txt\",\"w\")\n",
    "name=\"i am VPIS\"\n",
    "address=\"\\nRohini\"\n",
    "h.write(name)\n",
    "h.write(address)\n",
    "h.close()#save and close\n",
    "print(\"Thanks\")"
   ]
  },
  {
   "cell_type": "code",
   "execution_count": 10,
   "id": "f2c41005",
   "metadata": {},
   "outputs": [
    {
     "name": "stdout",
     "output_type": "stream",
     "text": [
      "Welcome\n",
      "Thanks\n"
     ]
    }
   ],
   "source": [
    "print(\"Welcome\")\n",
    "h=open(\"pp.txt\",\"a\")\n",
    "name=\"\\n\\ni am JNU\"\n",
    "address=\"\\nJaipuir\"\n",
    "h.write(name)\n",
    "h.write(address)\n",
    "h.close()#save and close\n",
    "print(\"Thanks\")"
   ]
  },
  {
   "cell_type": "code",
   "execution_count": 11,
   "id": "daeeed15",
   "metadata": {},
   "outputs": [
    {
     "name": "stdout",
     "output_type": "stream",
     "text": [
      "<_io.TextIOWrapper name='History.txt' mode='r' encoding='cp1252'>\n"
     ]
    }
   ],
   "source": [
    "k=open(\"History.txt\",\"r\")\n",
    "print(k)"
   ]
  },
  {
   "cell_type": "code",
   "execution_count": 12,
   "id": "006cf6d7",
   "metadata": {},
   "outputs": [
    {
     "name": "stdout",
     "output_type": "stream",
     "text": [
      "HISTORY OF INDIA\n",
      "hello everyone\n",
      "India is a vast country which contains people of multiple religion.\n"
     ]
    }
   ],
   "source": [
    "k=open(\"History.txt\",\"r\")\n",
    "o=k.read()\n",
    "print(o)"
   ]
  },
  {
   "cell_type": "code",
   "execution_count": 13,
   "id": "166c88ef",
   "metadata": {},
   "outputs": [
    {
     "data": {
      "text/plain": [
       "'HISTORY OF INDIA\\nhello everyone\\nIndia is a vast country which contains people of multiple religion.'"
      ]
     },
     "execution_count": 13,
     "metadata": {},
     "output_type": "execute_result"
    }
   ],
   "source": [
    "o"
   ]
  },
{
   "cell_type": "markdown",
   "id": "7d2275b5",
   "metadata": {},
   "source": [
    "# SQLite3 DataBase Management Project"
   ]
  },
  {
   "cell_type": "code",
   "execution_count": 14,
   "id": "b654de34",
   "metadata": {},
   "outputs": [],
   "source": [
    "import sqlite3"
   ]
  },
  {
   "cell_type": "code",
   "execution_count": 15,
   "id": "5dccc981",
   "metadata": {},
   "outputs": [],
   "source": [
    "#bridge\n",
    "con=sqlite3.connect(\"Name.db\") "
   ]
  },
  {
   "cell_type": "code",
   "execution_count": 16,
   "id": "d239c389",
   "metadata": {},
   "outputs": [],
   "source": [
    "#truck\n",
    "c=con.cursor()"
   ]
  },
  {
   "cell_type": "code",
   "execution_count": 17,
   "id": "f69fe435",
   "metadata": {},
   "outputs": [
    {
     "ename": "OperationalError",
     "evalue": "table cmp already exists",
     "output_type": "error",
     "traceback": [
      "\u001b[1;31m---------------------------------------------------------------------------\u001b[0m",
      "\u001b[1;31mOperationalError\u001b[0m                          Traceback (most recent call last)",
      "\u001b[1;32m~\\AppData\\Local\\Temp\\ipykernel_15596\\2800311110.py\u001b[0m in \u001b[0;36m<module>\u001b[1;34m\u001b[0m\n\u001b[1;32m----> 1\u001b[1;33m \u001b[0mc\u001b[0m\u001b[1;33m.\u001b[0m\u001b[0mexecute\u001b[0m\u001b[1;33m(\u001b[0m\u001b[1;34m\"create table cmp (name txt,age int, city txt)\"\u001b[0m\u001b[1;33m)\u001b[0m\u001b[1;33m\u001b[0m\u001b[1;33m\u001b[0m\u001b[0m\n\u001b[0m",
      "\u001b[1;31mOperationalError\u001b[0m: table cmp already exists"
     ]
    }
   ],
   "source": [
    "c.execute(\"create table cmp (name txt,age int, city txt)\")"
   ]
  },
  {
   "cell_type": "code",
   "execution_count": 18,
   "id": "683a3f9e",
   "metadata": {},
   "outputs": [
    {
     "data": {
      "text/plain": [
       "<sqlite3.Cursor at 0x1e96f5dbea0>"
      ]
     },
     "execution_count": 18,
     "metadata": {},
     "output_type": "execute_result"
    }
   ],
   "source": [
    "c.execute(\"insert into cmp values ('Vansh Thakur',19, 'Delhi')\")"
   ]
  },
  {
   "cell_type": "code",
   "execution_count": 19,
   "id": "31021c81",
   "metadata": {},
   "outputs": [
    {
     "data": {
      "text/plain": [
       "<sqlite3.Cursor at 0x1e96f5dbea0>"
      ]
     },
     "execution_count": 19,
     "metadata": {},
     "output_type": "execute_result"
    }
   ],
   "source": [
    "c.execute(\"insert into cmp values ('Kinjal',15,'delhi')\")"
   ]
  },
  {
   "cell_type": "code",
   "execution_count": 20,
   "id": "33ee19af",
   "metadata": {},
   "outputs": [],
   "source": [
    "con.commit()  #save"
   ]
  },
  {
   "cell_type": "code",
   "execution_count": 21,
   "id": "772f74da",
   "metadata": {},
   "outputs": [
    {
     "data": {
      "text/plain": [
       "<sqlite3.Cursor at 0x1e96f5dbea0>"
      ]
     },
     "execution_count": 21,
     "metadata": {},
     "output_type": "execute_result"
    }
   ],
   "source": [
    "c.execute(\"select * from cmp\") #* means for all"
   ]
  },
  {
   "cell_type": "code",
   "execution_count": 22,
   "id": "600d2065",
   "metadata": {},
   "outputs": [
    {
     "data": {
      "text/plain": [
       "[('Vansh Thakur', 19, 'Delhi'),\n",
       " ('Kinjal', 15, 'delhi'),\n",
       " ('Vansh Thakur', 19, 'Delhi'),\n",
       " ('Kinjal', 15, 'delhi')]"
      ]
     },
     "execution_count": 22,
     "metadata": {},
     "output_type": "execute_result"
    }
   ],
   "source": [
    "data=c.fetchall()\n",
    "data"
   ]
  },
  {
   "cell_type": "code",
   "execution_count": 23,
   "id": "5de831fd",
   "metadata": {},
   "outputs": [
    {
     "ename": "OperationalError",
     "evalue": "table Student already exists",
     "output_type": "error",
     "traceback": [
      "\u001b[1;31m---------------------------------------------------------------------------\u001b[0m",
      "\u001b[1;31mOperationalError\u001b[0m                          Traceback (most recent call last)",
      "\u001b[1;32m~\\AppData\\Local\\Temp\\ipykernel_15596\\270874307.py\u001b[0m in \u001b[0;36m<module>\u001b[1;34m\u001b[0m\n\u001b[0;32m      2\u001b[0m \u001b[0mcon\u001b[0m\u001b[1;33m=\u001b[0m\u001b[0msqlite3\u001b[0m\u001b[1;33m.\u001b[0m\u001b[0mconnect\u001b[0m\u001b[1;33m(\u001b[0m\u001b[1;34m\"ducat.db\"\u001b[0m\u001b[1;33m)\u001b[0m\u001b[1;33m\u001b[0m\u001b[1;33m\u001b[0m\u001b[0m\n\u001b[0;32m      3\u001b[0m \u001b[0mc\u001b[0m\u001b[1;33m=\u001b[0m\u001b[0mcon\u001b[0m\u001b[1;33m.\u001b[0m\u001b[0mcursor\u001b[0m\u001b[1;33m(\u001b[0m\u001b[1;33m)\u001b[0m\u001b[1;33m\u001b[0m\u001b[1;33m\u001b[0m\u001b[0m\n\u001b[1;32m----> 4\u001b[1;33m \u001b[0mc\u001b[0m\u001b[1;33m.\u001b[0m\u001b[0mexecute\u001b[0m\u001b[1;33m(\u001b[0m\u001b[1;34m\"create table Student (ID int unique, Name txt, Marks float, Mobile int, Email str)\"\u001b[0m\u001b[1;33m)\u001b[0m\u001b[1;33m\u001b[0m\u001b[1;33m\u001b[0m\u001b[0m\n\u001b[0m",
      "\u001b[1;31mOperationalError\u001b[0m: table Student already exists"
     ]
    }
   ],
   "source": [
    "import sqlite3\n",
    "con=sqlite3.connect(\"ducat.db\")\n",
    "c=con.cursor()\n",
    "c.execute(\"create table Student (ID int unique, Name txt, Marks float, Mobile int, Email str)\")\n"
   ]
  },
  {
   "cell_type": "code",
   "execution_count": 24,
   "id": "7dc0a677",
   "metadata": {},
   "outputs": [],
   "source": [
    "def insert():\n",
    "    cnfrminsert=input(\"Confirm to insert data (y/n)\").lower()\n",
    "    if cnfrminsert==\"y\":\n",
    "        i=1\n",
    "        while True:\n",
    "            a=int(input(\"Enter the id=\"))\n",
    "            b=input(\"Enter name= \")\n",
    "            c1=float(input(\"Enter Marks\"))\n",
    "            d=int(input(\"Enter your Mobile no.= \"))\n",
    "            e=input(\"Enter email id= \")\n",
    "            c.execute(\"insert into Student values (?,?,?,?,?)\",(a,b,c1,d,e))\n",
    "            print(\"Data Inserted\")\n",
    "            choiceinsert= input(\"Press Y to enter more data else press N\").lower()\n",
    "            if choiceinsert==\"n\":\n",
    "                break\n",
    "                \n",
    "    elif cnfrminsert==\"n\":\n",
    "        print(\"Thanks for Visiting\")\n",
    "        choice()\n",
    "    else:\n",
    "        print(\"Enter a valid option\")\n",
    "        insert()\n",
    "    "
   ]
  },
  {
   "cell_type": "code",
   "execution_count": 25,
   "id": "09eb1a50",
   "metadata": {},
   "outputs": [],
   "source": [
    "def read():\n",
    "    c.execute(\"select * from Student\")\n",
    "    data= c.fetchall()\n",
    "    print (data)\n",
    "    choice()"
   ]
  },
  {
   "cell_type": "code",
   "execution_count": 26,
   "id": "0b3bfcae",
   "metadata": {},
   "outputs": [],
   "source": [
    "def delete():\n",
    "    d1=int(input(\"Enter the no. of data items to delete= \"))\n",
    "    for i in range (0,d1):\n",
    "        d2=int(input(\"Enter ID to delete= \"))\n",
    "        c.execute(\"delete from student where ID='d2'\")\n",
    "    print(\"DATA DELETED\")\n",
    "    choice()"
   ]
  },
  {
   "cell_type": "code",
   "execution_count": 27,
   "id": "36caf2b7",
   "metadata": {},
   "outputs": [],
   "source": [
    "def updatefunction():\n",
    "    print(\"WELCOME \\n\")\n",
    "    def updateid():\n",
    "        cnfrmid=input(\"Confirm to change the id(Yes/No): \").lower()\n",
    "        if cnfrmid==\"yes\":\n",
    "            i=1\n",
    "            while True:\n",
    "                idu=int(input(\"Enter Previous ID to update= \"))\n",
    "                idu1=int(input(\"Enter new ID= \"))\n",
    "                c.execute(\"update Student set ID='idu1' where ID='idu'\")\n",
    "                print(\"ID Updated\")\n",
    "                choiceid=input(\"Do you want to change another id (Y/N):\").upper()\n",
    "                if choiceid==\"N\":\n",
    "                    break\n",
    "            \n",
    "        elif cnfrm== \"no\":\n",
    "            print(\"Thanks for your visit \\n\")\n",
    "            updatefunction()\n",
    "        else:\n",
    "            print(\"Enter a valid answer \\n\")\n",
    "            updateid()\n",
    "    def updatename():\n",
    "        cnfrmname=input(\"Do you want to change the name= \").lower()\n",
    "        if cnfrmname== \"yes\":\n",
    "            i=1\n",
    "            while True:\n",
    "                un=input(\"Enter the ID of the name to update= \")\n",
    "                un1=input(\"Enter new Name= \")\n",
    "                c.execute(\"update Student set Name='un1' where ID= 'un' \")\n",
    "                print(\"Name Updated\")\n",
    "                choicename=input(\"Do you want to change another name (y\\n)\")\n",
    "                if choicename==\"n\":\n",
    "                    break\n",
    "        elif cnfrm== \"no\":\n",
    "            print(\"Thanks for your visit \\n\")\n",
    "            updatefunction()\n",
    "        else:\n",
    "            print(\"Enter a valid answer \\n\")\n",
    "            updatename()\n",
    "    def updatemarks():\n",
    "        cnfrmmarks=input(\"Confirm to update marks (y/n):\").lower()\n",
    "        if cnfrmmarks==\"y\":\n",
    "            i=1\n",
    "            while True:\n",
    "                um=int(input(\"Enter the ID of the student of update= \"))\n",
    "                um1=float(input(\"ENTER UPDATED MARKS= \"))\n",
    "                c.execute(\"update Student set Marks='um1' where ID='um'\")\n",
    "                print(\"Marks UPDATED\")\n",
    "                choicemarks=input(\"DO YOU WANT TO UPDATE ANOTHER MARKS (Y/N)\").upper()\n",
    "                if choicemarks==\"N\":\n",
    "                    break\n",
    "        elif cnfrmmarks==\"n\":\n",
    "            print(\"Thanks for Visiting \\n\")\n",
    "        else: \n",
    "            print(\"Enter a valid option \\n\")\n",
    "            updatemarks()\n",
    "    def updatemobile():\n",
    "        cnfrmMno=input(\"Confirm to edit mobile no. (y/n)\").lower()\n",
    "        if cnfrmMno==\"y\":\n",
    "            i=1\n",
    "            while True:\n",
    "                umn=int(input(\"Enter ID of the student: \"))\n",
    "                umn1=int(input(\"Enter new mobile no.: \"))\n",
    "                c.execute(\"update Student set Mobile='umn1' where ID='umn'\")\n",
    "                print(\"Mobile no. UPDATED\")\n",
    "                choicemobile=input(\"Do you want to update another mobile no. (y/n)\").lower()\n",
    "                if choicemobile==\"n\":\n",
    "                    break\n",
    "        elif cnfrmMno==\"n\":\n",
    "            print(\"Thanks for Visiting \\n\")\n",
    "        else:\n",
    "            print(\"Enter a valid option\\n\")\n",
    "            updatemobile()\n",
    "    def updateemail():\n",
    "        cnfrmemail=input(\"Confirm to update a name (y/n): \").lower()\n",
    "        if cnfrmemail==\"y\":\n",
    "            i=1\n",
    "            while True:\n",
    "                ue=int(input(\"Enter the ID of the student to Update: \"))\n",
    "                ue1=input(\"Enter new email ID: \")\n",
    "                c.execute(\"update Student set Email='ue1' where ID='ue'\")\n",
    "                print(\"Email UPDATED\")\n",
    "                choiceemail=input(\"Do you want to edit more emails of the students (y/n)\").lower()\n",
    "                if choicemail==\"n\":\n",
    "                    break\n",
    "                    print(\"Thanks for visiting\")\n",
    "        elif cnfrmemail==\"n\":\n",
    "            print(\"Thanks for visiting \\n\")\n",
    "        else:\n",
    "            print(\"Enter a valid option\")\n",
    "            updateemail()\n",
    "    choiceuf=int(input(\"Enter your choice \\n 1. UPDATE ID \\n 2. UPDATE NAME \\n 3. UPDATE MARKS \\n 4.UPDATE MOBILE NUMBER \\n 5. UPDATE EMAIL \\n\"))\n",
    "    if choiceuf==1:\n",
    "        a=updateid()\n",
    "        a\n",
    "    elif choiceuf==2:\n",
    "        updatename()\n",
    "    elif choiceuf==3:\n",
    "        updatemarks()\n",
    "    elif choiceuf==4:\n",
    "        updatemobile()\n",
    "    elif choiceuf==5:\n",
    "        updateemail()\n",
    "    else:\n",
    "        print(\"Enter a valid option\")\n",
    "        updatefunction()\n",
    "    "
   ]
  },
  {
   "cell_type": "code",
   "execution_count": 28,
   "id": "c395d299",
   "metadata": {},
   "outputs": [
    {
     "name": "stdout",
     "output_type": "stream",
     "text": [
      "WELCOME TO THE STUDENTS TABLE IN DUCAT DATABASE \n",
      "\n"
     ]
    },
    {
     "ename": "KeyboardInterrupt",
     "evalue": "Interrupted by user",
     "output_type": "error",
     "traceback": [
      "\u001b[1;31m---------------------------------------------------------------------------\u001b[0m",
      "\u001b[1;31mKeyboardInterrupt\u001b[0m                         Traceback (most recent call last)",
      "\u001b[1;32m~\\AppData\\Local\\Temp\\ipykernel_15596\\1398979624.py\u001b[0m in \u001b[0;36m<module>\u001b[1;34m\u001b[0m\n\u001b[0;32m     15\u001b[0m         \u001b[0mprint\u001b[0m\u001b[1;33m(\u001b[0m\u001b[1;34m\"Enter a valid option\"\u001b[0m\u001b[1;33m)\u001b[0m\u001b[1;33m\u001b[0m\u001b[1;33m\u001b[0m\u001b[0m\n\u001b[0;32m     16\u001b[0m         \u001b[0mchoice\u001b[0m\u001b[1;33m(\u001b[0m\u001b[1;33m)\u001b[0m\u001b[1;33m\u001b[0m\u001b[1;33m\u001b[0m\u001b[0m\n\u001b[1;32m---> 17\u001b[1;33m \u001b[0mchoice\u001b[0m\u001b[1;33m(\u001b[0m\u001b[1;33m)\u001b[0m\u001b[1;33m\u001b[0m\u001b[1;33m\u001b[0m\u001b[0m\n\u001b[0m",
      "\u001b[1;32m~\\AppData\\Local\\Temp\\ipykernel_15596\\1398979624.py\u001b[0m in \u001b[0;36mchoice\u001b[1;34m()\u001b[0m\n\u001b[0;32m      1\u001b[0m \u001b[1;32mdef\u001b[0m \u001b[0mchoice\u001b[0m\u001b[1;33m(\u001b[0m\u001b[1;33m)\u001b[0m\u001b[1;33m:\u001b[0m\u001b[1;33m\u001b[0m\u001b[1;33m\u001b[0m\u001b[0m\n\u001b[0;32m      2\u001b[0m     \u001b[0mprint\u001b[0m\u001b[1;33m(\u001b[0m\u001b[1;34m\"WELCOME TO THE STUDENTS TABLE IN DUCAT DATABASE \\n\"\u001b[0m\u001b[1;33m)\u001b[0m\u001b[1;33m\u001b[0m\u001b[1;33m\u001b[0m\u001b[0m\n\u001b[1;32m----> 3\u001b[1;33m     \u001b[0moperation\u001b[0m\u001b[1;33m=\u001b[0m\u001b[0mint\u001b[0m\u001b[1;33m(\u001b[0m\u001b[0minput\u001b[0m\u001b[1;33m(\u001b[0m\u001b[1;34m\"HOW CAN WE HELP YOU \\n 1. INSERT DATA \\n 2. READ DATA \\n 3. DELTE DATA \\n 4. UPDATE DATA \\n 5: EXIT THE PAGE \\n \\n  PLEASE ENTER YOUR CHOICE: \"\u001b[0m\u001b[1;33m)\u001b[0m\u001b[1;33m)\u001b[0m\u001b[1;33m\u001b[0m\u001b[1;33m\u001b[0m\u001b[0m\n\u001b[0m\u001b[0;32m      4\u001b[0m     \u001b[1;32mif\u001b[0m \u001b[0moperation\u001b[0m\u001b[1;33m==\u001b[0m\u001b[1;36m1\u001b[0m\u001b[1;33m:\u001b[0m\u001b[1;33m\u001b[0m\u001b[1;33m\u001b[0m\u001b[0m\n\u001b[0;32m      5\u001b[0m         \u001b[0minsert\u001b[0m\u001b[1;33m(\u001b[0m\u001b[1;33m)\u001b[0m\u001b[1;33m\u001b[0m\u001b[1;33m\u001b[0m\u001b[0m\n",
      "\u001b[1;32mC:\\ProgramData\\Anaconda3\\lib\\site-packages\\ipykernel\\kernelbase.py\u001b[0m in \u001b[0;36mraw_input\u001b[1;34m(self, prompt)\u001b[0m\n\u001b[0;32m   1175\u001b[0m                 \u001b[1;34m\"raw_input was called, but this frontend does not support input requests.\"\u001b[0m\u001b[1;33m\u001b[0m\u001b[1;33m\u001b[0m\u001b[0m\n\u001b[0;32m   1176\u001b[0m             )\n\u001b[1;32m-> 1177\u001b[1;33m         return self._input_request(\n\u001b[0m\u001b[0;32m   1178\u001b[0m             \u001b[0mstr\u001b[0m\u001b[1;33m(\u001b[0m\u001b[0mprompt\u001b[0m\u001b[1;33m)\u001b[0m\u001b[1;33m,\u001b[0m\u001b[1;33m\u001b[0m\u001b[1;33m\u001b[0m\u001b[0m\n\u001b[0;32m   1179\u001b[0m             \u001b[0mself\u001b[0m\u001b[1;33m.\u001b[0m\u001b[0m_parent_ident\u001b[0m\u001b[1;33m[\u001b[0m\u001b[1;34m\"shell\"\u001b[0m\u001b[1;33m]\u001b[0m\u001b[1;33m,\u001b[0m\u001b[1;33m\u001b[0m\u001b[1;33m\u001b[0m\u001b[0m\n",
      "\u001b[1;32mC:\\ProgramData\\Anaconda3\\lib\\site-packages\\ipykernel\\kernelbase.py\u001b[0m in \u001b[0;36m_input_request\u001b[1;34m(self, prompt, ident, parent, password)\u001b[0m\n\u001b[0;32m   1217\u001b[0m             \u001b[1;32mexcept\u001b[0m \u001b[0mKeyboardInterrupt\u001b[0m\u001b[1;33m:\u001b[0m\u001b[1;33m\u001b[0m\u001b[1;33m\u001b[0m\u001b[0m\n\u001b[0;32m   1218\u001b[0m                 \u001b[1;31m# re-raise KeyboardInterrupt, to truncate traceback\u001b[0m\u001b[1;33m\u001b[0m\u001b[1;33m\u001b[0m\u001b[0m\n\u001b[1;32m-> 1219\u001b[1;33m                 \u001b[1;32mraise\u001b[0m \u001b[0mKeyboardInterrupt\u001b[0m\u001b[1;33m(\u001b[0m\u001b[1;34m\"Interrupted by user\"\u001b[0m\u001b[1;33m)\u001b[0m \u001b[1;32mfrom\u001b[0m \u001b[1;32mNone\u001b[0m\u001b[1;33m\u001b[0m\u001b[1;33m\u001b[0m\u001b[0m\n\u001b[0m\u001b[0;32m   1220\u001b[0m             \u001b[1;32mexcept\u001b[0m \u001b[0mException\u001b[0m\u001b[1;33m:\u001b[0m\u001b[1;33m\u001b[0m\u001b[1;33m\u001b[0m\u001b[0m\n\u001b[0;32m   1221\u001b[0m                 \u001b[0mself\u001b[0m\u001b[1;33m.\u001b[0m\u001b[0mlog\u001b[0m\u001b[1;33m.\u001b[0m\u001b[0mwarning\u001b[0m\u001b[1;33m(\u001b[0m\u001b[1;34m\"Invalid Message:\"\u001b[0m\u001b[1;33m,\u001b[0m \u001b[0mexc_info\u001b[0m\u001b[1;33m=\u001b[0m\u001b[1;32mTrue\u001b[0m\u001b[1;33m)\u001b[0m\u001b[1;33m\u001b[0m\u001b[1;33m\u001b[0m\u001b[0m\n",
      "\u001b[1;31mKeyboardInterrupt\u001b[0m: Interrupted by user"
     ]
    }
   ],
   "source": [
    "def choice():\n",
    "    print(\"WELCOME TO THE STUDENTS TABLE IN DUCAT DATABASE \\n\")\n",
    "    operation=int(input(\"HOW CAN WE HELP YOU \\n 1. INSERT DATA \\n 2. READ DATA \\n 3. DELTE DATA \\n 4. UPDATE DATA \\n 5: EXIT THE PAGE \\n \\n  PLEASE ENTER YOUR CHOICE: \"))\n",
    "    if operation==1:\n",
    "        insert()\n",
    "    elif operation==2:\n",
    "        read()\n",
    "    elif operation==3:\n",
    "        delete()\n",
    "    elif operation==4:\n",
    "        updatefunction()\n",
    "    elif operation==5:\n",
    "        print(\"\\n Thanks for Visiting \\n\")\n",
    "    else:\n",
    "        print(\"Enter a valid option\")\n",
    "        choice()\n",
    "choice()"
   ]
  },
  {
   "cell_type": "code",
   "execution_count": 1,
   "id": "8219f446",
   "metadata": {},
   "outputs": [
    {
     "data": {
      "text/plain": [
       "'syntax for class= class classname:'"
      ]
     },
     "execution_count": 1,
     "metadata": {},
     "output_type": "execute_result"
    }
   ],
   "source": [
    "#class and object\n",
    "#keyword of \"class\"= class\n",
    "\"syntax for class= class classname:\""
   ]
  },
  {
   "cell_type": "code",
   "execution_count": 5,
   "id": "ed673704",
   "metadata": {},
   "outputs": [],
   "source": [
    "class ducat:\n",
    "    def java(object):\n",
    "        print(\"I am java function\")"
   ]
  },
  {
   "cell_type": "code",
   "execution_count": 6,
   "id": "402fd4ca",
   "metadata": {},
   "outputs": [
    {
     "data": {
      "text/plain": [
       "<__main__.ducat at 0x2d05f308308>"
      ]
     },
     "execution_count": 6,
     "metadata": {},
     "output_type": "execute_result"
    }
   ],
   "source": [
    "d=ducat()\n",
    "d"
   ]
  },
  {
   "cell_type": "code",
   "execution_count": 7,
   "id": "c0d243ab",
   "metadata": {},
   "outputs": [
    {
     "name": "stdout",
     "output_type": "stream",
     "text": [
      "I am java function\n"
     ]
    }
   ],
   "source": [
    "d.java()#d.java(Object)"
   ]
  },
  {
   "cell_type": "code",
   "execution_count": 5,
   "id": "3b304ee7",
   "metadata": {},
   "outputs": [],
   "source": [
    "#inheritance type\n",
    "#1. simple\n",
    "#2. herarchy\n",
    "#3. multileve"
   ]
  },
  {
   "cell_type": "code",
   "execution_count": 8,
   "id": "8561e223",
   "metadata": {},
   "outputs": [],
   "source": [
    "class papa:\n",
    "    def __init__(self):\n",
    "        print(\"Self calling function: \")\n",
    "class beta(papa):\n",
    "    def sample(self):\n",
    "        print(\"Sample product\")"
   ]
  },
  {
   "cell_type": "code",
   "execution_count": 9,
   "id": "feec6d32",
   "metadata": {},
   "outputs": [
    {
     "name": "stdout",
     "output_type": "stream",
     "text": [
      "Self calling function: \n"
     ]
    }
   ],
   "source": [
    "p=papa()"
   ]
  },
  {
   "cell_type": "code",
   "execution_count": 10,
   "id": "b715e21c",
   "metadata": {},
   "outputs": [
    {
     "data": {
      "text/plain": [
       "<__main__.papa at 0x16710117288>"
      ]
     },
     "execution_count": 10,
     "metadata": {},
     "output_type": "execute_result"
    }
   ],
   "source": [
    "p"
   ]
  },
  {
   "cell_type": "code",
   "execution_count": 11,
   "id": "0a5965ca",
   "metadata": {},
   "outputs": [
    {
     "name": "stdout",
     "output_type": "stream",
     "text": [
      "Self calling function: \n"
     ]
    }
   ],
   "source": [
    "p=beta()"
   ]
  },
  {
   "cell_type": "code",
   "execution_count": 12,
   "id": "6297bea4",
   "metadata": {},
   "outputs": [
    {
     "name": "stdout",
     "output_type": "stream",
     "text": [
      "Sample product\n"
     ]
    }
   ],
   "source": [
    "p.sample()"
   ]
  },
  {
   "cell_type": "code",
   "execution_count": 13,
   "id": "91754399",
   "metadata": {},
   "outputs": [
    {
     "name": "stdout",
     "output_type": "stream",
     "text": [
      "Self calling function: \n"
     ]
    }
   ],
   "source": [
    "p.__init__()"
   ]
  },
  {
   "cell_type": "code",
   "execution_count": 1,
   "id": "87453d10",
   "metadata": {},
   "outputs": [],
   "source": [
    "import numpy as np"
   ]
  },
  {
   "cell_type": "code",
   "execution_count": 3,
   "id": "08e4241c",
   "metadata": {},
   "outputs": [
    {
     "name": "stdout",
     "output_type": "stream",
     "text": [
      "[ 2  4  6  8 10]\n",
      "[ 3  6  9 12 15]\n"
     ]
    }
   ],
   "source": [
    "a=np.array([1,2,3,4,5])\n",
    "a1=np.array([2,3])\n",
    "for i in a1:\n",
    "    print(a*i)"
   ]
  },
  {
   "cell_type": "code",
   "execution_count": 4,
   "id": "640f2cbb",
   "metadata": {},
   "outputs": [],
   "source": [
    "a=np.arange(1,7,2)"
   ]
  },
  {
   "cell_type": "code",
   "execution_count": 5,
   "id": "1651254b",
   "metadata": {},
   "outputs": [
    {
     "data": {
      "text/plain": [
       "array([1, 3, 5])"
      ]
     },
     "execution_count": 5,
     "metadata": {},
     "output_type": "execute_result"
    }
   ],
   "source": [
    "a"
   ]
  },
  {
   "cell_type": "code",
   "execution_count": 5,
   "id": "73296c33",
   "metadata": {},
   "outputs": [],
   "source": [
    "import numpy as np"
   ]
  },
  {
   "cell_type": "code",
   "execution_count": 5,
   "id": "ecc38707",
   "metadata": {},
   "outputs": [
    {
     "name": "stdout",
     "output_type": "stream",
     "text": [
      "List:  [1, 2, 3, 4] \t type:  <class 'list'>\n"
     ]
    }
   ],
   "source": [
    "my_list=[1,2,3,4]\n",
    "print(\"List: \",my_list ,\"\\t type: \",type(my_list))"
   ]
  },
  {
   "cell_type": "code",
   "execution_count": 6,
   "id": "c37c59c8",
   "metadata": {},
   "outputs": [
    {
     "data": {
      "text/plain": [
       "[1, 2, 3, 4, 1, 2, 3, 4]"
      ]
     },
     "execution_count": 6,
     "metadata": {},
     "output_type": "execute_result"
    }
   ],
   "source": [
    "l=my_list\n",
    "l*2"
   ]
  },
  {
   "cell_type": "code",
   "execution_count": 8,
   "id": "541b6a40",
   "metadata": {},
   "outputs": [
    {
     "data": {
      "text/plain": [
       "[1, 2, 3, 4, 1, 2, 3, 4]"
      ]
     },
     "execution_count": 8,
     "metadata": {},
     "output_type": "execute_result"
    }
   ],
   "source": [
    "l*2"
   ]
  },
  {
   "cell_type": "code",
   "execution_count": 9,
   "id": "18797e97",
   "metadata": {},
   "outputs": [
    {
     "data": {
      "text/plain": [
       "array([1, 2, 3, 4])"
      ]
     },
     "execution_count": 9,
     "metadata": {},
     "output_type": "execute_result"
    }
   ],
   "source": [
    "my=np.array(my_list)\n",
    "my"
   ]
  },
  {
   "cell_type": "code",
   "execution_count": 10,
   "id": "b6d63b75",
   "metadata": {},
   "outputs": [
    {
     "name": "stdout",
     "output_type": "stream",
     "text": [
      "data: [1 2 3 4] \t type: <class 'numpy.ndarray'>\n"
     ]
    }
   ],
   "source": [
    "print(\"data:\",my,\"\\t type:\",type(my))"
   ]
  },
  {
   "cell_type": "code",
   "execution_count": 11,
   "id": "cc11bf8e",
   "metadata": {},
   "outputs": [
    {
     "data": {
      "text/plain": [
       "(4,)"
      ]
     },
     "execution_count": 11,
     "metadata": {},
     "output_type": "execute_result"
    }
   ],
   "source": [
    "my.shape"
   ]
  },
  {
   "cell_type": "code",
   "execution_count": 12,
   "id": "bc857346",
   "metadata": {},
   "outputs": [
    {
     "data": {
      "text/plain": [
       "array([1, 2, 3, 4])"
      ]
     },
     "execution_count": 12,
     "metadata": {},
     "output_type": "execute_result"
    }
   ],
   "source": [
    "np.array(my_list)"
   ]
  },
  {
   "cell_type": "code",
   "execution_count": 9,
   "id": "4a56a5a4",
   "metadata": {},
   "outputs": [
    {
     "data": {
      "text/plain": [
       "[[1, 2, 3], [4, 5, 6], [7, 8, 9], [10, 11, 12]]"
      ]
     },
     "execution_count": 9,
     "metadata": {},
     "output_type": "execute_result"
    }
   ],
   "source": [
    "matrix=[[1,2,3],[4,5,6],[7,8,9],[10,11,12]]\n",
    "matrix"
   ]
  },
  {
   "cell_type": "code",
   "execution_count": 10,
   "id": "01ead726",
   "metadata": {},
   "outputs": [
    {
     "data": {
      "text/plain": [
       "4"
      ]
     },
     "execution_count": 10,
     "metadata": {},
     "output_type": "execute_result"
    }
   ],
   "source": [
    "len(matrix)"
   ]
  },
  {
   "cell_type": "code",
   "execution_count": 11,
   "id": "acbb165e",
   "metadata": {},
   "outputs": [
    {
     "data": {
      "text/plain": [
       "list"
      ]
     },
     "execution_count": 11,
     "metadata": {},
     "output_type": "execute_result"
    }
   ],
   "source": [
    "type(matrix)"
   ]
  },
  {
   "cell_type": "code",
   "execution_count": 12,
   "id": "90d1fd1d",
   "metadata": {},
   "outputs": [
    {
     "data": {
      "text/plain": [
       "(4, list)"
      ]
     },
     "execution_count": 12,
     "metadata": {},
     "output_type": "execute_result"
    }
   ],
   "source": [
    "len(matrix),type(matrix)"
   ]
  },
  {
   "cell_type": "code",
   "execution_count": 13,
   "id": "a57a7616",
   "metadata": {},
   "outputs": [
    {
     "ename": "AttributeError",
     "evalue": "'list' object has no attribute 'reshape'",
     "output_type": "error",
     "traceback": [
      "\u001b[1;31m---------------------------------------------------------------------------\u001b[0m",
      "\u001b[1;31mAttributeError\u001b[0m                            Traceback (most recent call last)",
      "\u001b[1;32m~\\AppData\\Local\\Temp\\ipykernel_16144\\4256724359.py\u001b[0m in \u001b[0;36m<module>\u001b[1;34m\u001b[0m\n\u001b[1;32m----> 1\u001b[1;33m \u001b[0mmatrix\u001b[0m\u001b[1;33m.\u001b[0m\u001b[0mreshape\u001b[0m\u001b[1;33m(\u001b[0m\u001b[1;36m2\u001b[0m\u001b[1;33m,\u001b[0m\u001b[1;36m2\u001b[0m\u001b[1;33m)\u001b[0m\u001b[1;33m\u001b[0m\u001b[1;33m\u001b[0m\u001b[0m\n\u001b[0m",
      "\u001b[1;31mAttributeError\u001b[0m: 'list' object has no attribute 'reshape'"
     ]
    }
   ],
   "source": [
    "matrix.reshape(2,2)"
   ]
  },
  {
   "cell_type": "code",
   "execution_count": 14,
   "id": "10b1caac",
   "metadata": {},
   "outputs": [
    {
     "data": {
      "text/plain": [
       "(array([[ 1,  2,  3],\n",
       "        [ 4,  5,  6],\n",
       "        [ 7,  8,  9],\n",
       "        [10, 11, 12]]),\n",
       " numpy.ndarray)"
      ]
     },
     "execution_count": 14,
     "metadata": {},
     "output_type": "execute_result"
    }
   ],
   "source": [
    "na=np.array(matrix)\n",
    "na,type(na)"
   ]
  },
  {
   "cell_type": "code",
   "execution_count": 15,
   "id": "3386b40e",
   "metadata": {},
   "outputs": [
    {
     "data": {
      "text/plain": [
       "(4, 3)"
      ]
     },
     "execution_count": 15,
     "metadata": {},
     "output_type": "execute_result"
    }
   ],
   "source": [
    "na.shape"
   ]
  },
  {
   "cell_type": "code",
   "execution_count": 3,
   "id": "7fee1d50",
   "metadata": {},
   "outputs": [],
   "source": [
    "import pandas as pd\n",
    "import numpy as np"
   ]
  },
  {
   "cell_type": "code",
   "execution_count": 2,
   "id": "a6a03cd9",
   "metadata": {},
   "outputs": [
    {
     "data": {
      "text/plain": [
       "[10, 20, 30, 40, 50]"
      ]
     },
     "execution_count": 2,
     "metadata": {},
     "output_type": "execute_result"
    }
   ],
   "source": [
    "l=[10,20,30,40,50]\n",
    "l"
   ]
  },
  {
   "cell_type": "code",
   "execution_count": null,
   "id": "b71488db",
   "metadata": {},
   "outputs": [],
   "source": []
  }
 ],
 "metadata": {
  "kernelspec": {
   "display_name": "Python 3 (ipykernel)",
   "language": "python",
   "name": "python3"
  },
  "language_info": {
   "codemirror_mode": {
    "name": "ipython",
    "version": 3
   },
   "file_extension": ".py",
   "mimetype": "text/x-python",
   "name": "python",
   "nbconvert_exporter": "python",
   "pygments_lexer": "ipython3",
   "version": "3.9.13"
  }
 },
 "nbformat": 4,
 "nbformat_minor": 5
}
